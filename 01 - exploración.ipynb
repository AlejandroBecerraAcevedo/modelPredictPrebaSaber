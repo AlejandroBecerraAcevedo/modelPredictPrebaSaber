{
 "cells": [
  {
   "cell_type": "code",
   "execution_count": 18,
   "metadata": {},
   "outputs": [],
   "source": [
    "import os\n",
    "import kaggle as kg\n",
    "import pandas as pd\n",
    "import numpy as np"
   ]
  },
  {
   "cell_type": "markdown",
   "metadata": {},
   "source": [
    "# Instalación de kaggle y descarga de archivos en Visual Studio Code\n",
    "\n",
    "Installación de kaggle de colab y carga de archivos en el area de trabajo\n",
    "Se debe tener en cuenta que esta linea de comandos descarga el archivo \"udea-ai4eng-20241\"\n",
    "Estos comandos en local desde Visual Studio Code se deben ejecutar desde GIT_bash, que reconoce\n",
    "el lenguaje linux, Por último se debe tener en cuenta que se debe descargar el archivo kaggle.json desde la página\n",
    "de kaggle para su respectiva base de datos a manipular, tal arvhivo debe ser guardado en el mismo repositorio o guardado en el archivo .kaggle que se crea cuando se instala kaggle; si se hace esto últimmo se debe omitir la ejecución de \"os.environ['KAGGLE_CONFIG_DIR'] = '.'\"\n",
    "\n",
    "   pip3 install kaggle\n",
    "\n",
    "   os.environ['KAGGLE_CONFIG_DIR'] = '.'\n",
    "\n",
    "   chmod 600 <ubicación_kaggle.json>\n",
    "\n",
    "   kaggle competitions download -c udea-ai4eng-20241\n",
    "   \n",
    "   unzip \"udea-ai4eng-20241.zip\"\n",
    "\n",
    "   rm udea-ai4eng-20241.zip test.csv submission_example.csv\n",
    "\n",
    "\n",
    "   Por último, se eliminan los documentos no deseados "
   ]
  },
  {
   "cell_type": "code",
   "execution_count": null,
   "metadata": {},
   "outputs": [],
   "source": [
    "# Carga de datos en RAM\n",
    "\n"
   ]
  }
 ],
 "metadata": {
  "kernelspec": {
   "display_name": "Python 3",
   "language": "python",
   "name": "python3"
  },
  "language_info": {
   "codemirror_mode": {
    "name": "ipython",
    "version": 3
   },
   "file_extension": ".py",
   "mimetype": "text/x-python",
   "name": "python",
   "nbconvert_exporter": "python",
   "pygments_lexer": "ipython3",
   "version": "3.12.2"
  }
 },
 "nbformat": 4,
 "nbformat_minor": 2
}
